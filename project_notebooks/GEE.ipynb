{
 "cells": [
  {
   "cell_type": "markdown",
   "id": "399a6293-e028-47ba-93e0-e637b6c867be",
   "metadata": {},
   "source": [
    "## 1. Installing GEE"
   ]
  },
  {
   "cell_type": "markdown",
   "id": "93f4879b-ee72-44db-a44c-6cab9bfc2877",
   "metadata": {},
   "source": [
    "This is working with conda.\\\n",
    "For installing conda: https://developers.google.com/earth-engine/python_install-conda"
   ]
  },
  {
   "cell_type": "markdown",
   "id": "aa239f88-abb4-46d4-b3b9-11871a473716",
   "metadata": {},
   "source": [
    "#### Create a new environment (recommended):"
   ]
  },
  {
   "cell_type": "code",
   "execution_count": null,
   "id": "c2d51954-eb5d-4e2b-95f6-faf0e56c3d21",
   "metadata": {},
   "outputs": [],
   "source": [
    "#conda create --name ee\n",
    "#conda activate ee"
   ]
  },
  {
   "cell_type": "markdown",
   "id": "ef5c59bc-b8c9-4a04-97c8-7cd7ab4351d9",
   "metadata": {},
   "source": [
    "#### Install the earthengine api"
   ]
  },
  {
   "cell_type": "code",
   "execution_count": null,
   "id": "22aacbba-394f-45bc-a7ac-3cd3c5e12cfc",
   "metadata": {},
   "outputs": [],
   "source": [
    "#conda install -c conda-forge earthengine-api"
   ]
  },
  {
   "cell_type": "markdown",
   "id": "33bcb3fd-b2d8-420a-81bf-ba5da67e5734",
   "metadata": {},
   "source": [
    "#### Authenticate account (need it for the first time of use)"
   ]
  },
  {
   "cell_type": "code",
   "execution_count": null,
   "id": "36a7095b-06c9-43b5-b331-9320fffdaaf7",
   "metadata": {},
   "outputs": [],
   "source": [
    "#earthengine authenticate"
   ]
  },
  {
   "cell_type": "markdown",
   "id": "518ab0ac-0cb1-4c64-ad1e-9391d4a73fda",
   "metadata": {},
   "source": [
    "How to authenticate this server for accessing Earth Engine\\\n",
    "Step 1 - Click on the following link\\\n",
    "[Link to generate an authentication code for accessing Earth Engine](https://accounts.google.com/o/oauth2/auth?scope=https%3A%2F%2Fwww.googleapis.com%2Fauth%2Fearthengine.readonly&redirect_uri=urn%3Aietf%3Awg%3Aoauth%3A2.0%3Aoob&response_type=code&client_id=517222506229-vsmmajv00ul0bs7p89v5m89qs8eb9359.apps.googleusercontent.com) \\\n",
    "\n",
    "Step 2 - Click on Accept\\\n",
    "Step 3 - Copy the authentication code that is returned\\\n",
    "Step 4 - Paste the authentication code below, then run the code by pressing the play button\\"
   ]
  },
  {
   "cell_type": "code",
   "execution_count": null,
   "id": "4da8753d-0061-4f32-8d77-64e0f5da491f",
   "metadata": {},
   "outputs": [],
   "source": [
    "authentication_code ='PASTE_YOUR_CODE_HERE'\n",
    "\n",
    "import ee\n",
    "import errno\n",
    "import json\n",
    "import os\n",
    "import urllib\n",
    "import urllib2\n",
    "\n",
    "from ee.oauthinfo import OAuthInfo\n",
    "\n",
    "# Try to initialize Earth Engine, and if unsuccessful try to get a credentials file\n",
    "# using the authentication code provided above.\n",
    "try:\n",
    "    ee.Initialize()\n",
    "except:\n",
    "    token_request_params = {\n",
    "      'code': authentication_code,\n",
    "      'client_id': OAuthInfo.CLIENT_ID,\n",
    "      'client_secret': OAuthInfo.CLIENT_SECRET,\n",
    "      'redirect_uri': 'urn:ietf:wg:oauth:2.0:oob',\n",
    "      'grant_type': 'authorization_code'\n",
    "    }\n",
    "    refresh_token = None\n",
    "    try:\n",
    "        response = urllib2.urlopen('https://accounts.google.com/o/oauth2/token',\n",
    "                               urllib.urlencode(token_request_params)).read()\n",
    "        tokens = json.loads(response)\n",
    "        refresh_token = tokens['refresh_token']\n",
    "    except urllib2.HTTPError, e:\n",
    "        raise Exception('Problem requesting tokens.  Please try again.  %s %s' %\n",
    "                    (e, e.read()))\n",
    "\n",
    "    ### Write refresh token to filesystem for later use\n",
    "    credentials_path = OAuthInfo.credentials_path()\n",
    "    dirname = os.path.dirname(credentials_path)\n",
    "    try:\n",
    "        os.makedirs(dirname)\n",
    "    except OSError, e:\n",
    "        if e.errno != errno.EEXIST:\n",
    "            raise Exception('Error creating %s: %s' % (dirname, e))\n",
    "\n",
    "    json.dump({'refresh_token': refresh_token}, open(credentials_path, 'w'))\n",
    "\n",
    "    print '\\nSuccessfully saved authorization to %s' % credentials_path\n",
    "    \n",
    "# Try to authenticate to Earth Engine.\n",
    "try:\n",
    "  ee.Initialize()\n",
    "  print '\\nSuccessfully authenticated to Earth Engine!'\n",
    "except:\n",
    "  print '\\nOops. Something went wrong!'"
   ]
  },
  {
   "cell_type": "markdown",
   "id": "cd82559b-c649-4637-bcd4-5d523557a7c6",
   "metadata": {},
   "source": [
    "## 2. Working with GEE"
   ]
  },
  {
   "cell_type": "markdown",
   "id": "67115576-c86f-414b-b4e8-576a71efba45",
   "metadata": {},
   "source": [
    "#### Import EE"
   ]
  },
  {
   "cell_type": "code",
   "execution_count": null,
   "id": "15f4e308-5aba-4714-9c6c-8943f47c1792",
   "metadata": {},
   "outputs": [],
   "source": [
    "import ee\n",
    "ee.Initialize()"
   ]
  },
  {
   "cell_type": "code",
   "execution_count": null,
   "id": "7a4bcc0e-cd8e-4c39-bec1-e7f84daaa391",
   "metadata": {},
   "outputs": [],
   "source": [
    "## Verify the ee module is loaded.\n",
    "print(ee.__version__)"
   ]
  },
  {
   "cell_type": "markdown",
   "id": "f047ad58-11d2-4b46-bdcd-977d87cda7a2",
   "metadata": {},
   "source": [
    "#### Install other useful packages:"
   ]
  },
  {
   "cell_type": "code",
   "execution_count": null,
   "id": "c79701d1-1225-40e6-a79c-f472deb114a0",
   "metadata": {},
   "outputs": [],
   "source": [
    "pip install geemap ##Package for visualizing geospatial data."
   ]
  },
  {
   "cell_type": "markdown",
   "id": "833c9095-ebf7-4acc-b97e-eafa96bf8c31",
   "metadata": {},
   "source": [
    "#### Load satellite dataset: https://developers.google.com/earth-engine/datasets/"
   ]
  },
  {
   "cell_type": "code",
   "execution_count": null,
   "id": "88c3a208-b909-45cd-bff6-5bd77765cba7",
   "metadata": {},
   "outputs": [],
   "source": [
    "collection = ee.ImageCollection(\"COPERNICUS/S2_SR\") ##Sentinel-2 L2A"
   ]
  },
  {
   "cell_type": "markdown",
   "id": "7705c69d-d5aa-44ab-8b4f-1309191d7072",
   "metadata": {},
   "source": [
    "#### Filter collection by date, region of interest and cloud coverage:"
   ]
  },
  {
   "cell_type": "code",
   "execution_count": null,
   "id": "87608d89-7086-4b06-b63e-1f7bcc8271fd",
   "metadata": {},
   "outputs": [],
   "source": [
    "## Some settings:\n",
    "start_date = '2020-01-01'\n",
    "end_date = '2020-12-31'\n",
    "cloud_cover = 30\n",
    "states = ee.FeatureCollection(\"TIGER/2018/States\") ## US administrative division\n",
    "aoi = states.filterMetadata('NAME','equals','Florida') ## Select the state of Florida.\n",
    "\n",
    "## Filter collection:\n",
    "filtered = collection.filterDate(start_date,end_date) \\\n",
    "            .filterBounds(aoi) \\\n",
    "            .filter(ee.Filter.lt('CLOUDY_PIXEL_PERCENTAGE', cloud_cover))"
   ]
  },
  {
   "cell_type": "code",
   "execution_count": null,
   "id": "aea77d6c-ef63-4d67-8791-ff8a705a6f50",
   "metadata": {},
   "outputs": [],
   "source": [
    "## Check number of images loaded:\n",
    "print(filtered.size().getInfo())"
   ]
  },
  {
   "cell_type": "markdown",
   "id": "1f8de0d3-4967-4018-a0c4-8d7652a4aad6",
   "metadata": {},
   "source": [
    "#### Clip collection and apply cloud mask:"
   ]
  },
  {
   "cell_type": "code",
   "execution_count": null,
   "id": "7f39dc70-703f-4c47-955c-5425ea72d467",
   "metadata": {},
   "outputs": [],
   "source": [
    "## Function to clip an image collection\n",
    "def clipCollection(img):\n",
    "    return img.clip(aoi)\n",
    "\n",
    "## Function to mask clouds using the Sentinel-2 QA band.\n",
    "def maskS2clouds(image):\n",
    "    qa = image.select('QA60')\n",
    "\n",
    "    ## Bits 10 and 11 are clouds and cirrus, respectively.\n",
    "    cloudBitMask = 1 << 10;\n",
    "    cirrusBitMask = 1 << 11;\n",
    "\n",
    "    ## Both flags should be set to zero, indicating clear conditions.\n",
    "    mask = qa.bitwiseAnd(cloudBitMask).eq(0).And(qa.bitwiseAnd(cirrusBitMask).eq(0))\n",
    "\n",
    "    ## Return the masked and scaled data, without the QA bands.\n",
    "    return image.updateMask(mask).divide(10000) \\\n",
    "    .select(\"B.*\") \\\n",
    "    .copyProperties(image, [\"system:time_start\"])"
   ]
  },
  {
   "cell_type": "code",
   "execution_count": null,
   "id": "5f72512d-47fd-459d-a8f3-4a0d9a410bdc",
   "metadata": {},
   "outputs": [],
   "source": [
    "## Run functions and create mosaic:\n",
    "mosaic = filtered.map(maskS2clouds).map(clipCollection).median()"
   ]
  },
  {
   "cell_type": "markdown",
   "id": "5b8fd070-0eeb-498b-8bae-1c737ef06bdd",
   "metadata": {},
   "source": [
    "#### Visualize map"
   ]
  },
  {
   "cell_type": "code",
   "execution_count": null,
   "id": "2451b623-fcb0-4cd9-bbbd-98b9a8e9a5ae",
   "metadata": {},
   "outputs": [],
   "source": [
    "## Visualization parameters:\n",
    "viz = {\n",
    "    'min': 0,\n",
    "    'max': 2.0,\n",
    "    'bands': ['B4','B3','B2'],\n",
    "    'gamma': 1.5}\n",
    "\n",
    "# initialize our map\n",
    "Map = geemap.Map()\n",
    "Map.centerObject(aoi, 9)\n",
    "Map.addLayer(mosaic, viz, \"Florida\")\n",
    "\n",
    "Map.addLayerControl()\n",
    "Map"
   ]
  }
 ],
 "metadata": {
  "kernelspec": {
   "display_name": "Python 3 (ipykernel)",
   "language": "python",
   "name": "python3"
  },
  "language_info": {
   "codemirror_mode": {
    "name": "ipython",
    "version": 3
   },
   "file_extension": ".py",
   "mimetype": "text/x-python",
   "name": "python",
   "nbconvert_exporter": "python",
   "pygments_lexer": "ipython3",
   "version": "3.7.10"
  }
 },
 "nbformat": 4,
 "nbformat_minor": 5
}
