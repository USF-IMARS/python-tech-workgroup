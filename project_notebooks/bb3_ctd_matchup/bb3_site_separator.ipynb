{
 "cells": [
  {
   "cell_type": "markdown",
   "metadata": {},
   "source": [
    "BB3 Site Separator\n",
    "Written by Sebastian DiGeronimo\n",
    "\n",
    "**Important**\n",
    "This script should read a BB3 file that contains many stations (sometimes many cruises) and separate them into stations. The file format is MBON_MM_DD_YYYYTHHmmss_site_ID (i.e MBON_07_01_20T183009_site_KW2). \n",
    "\n",
    "I've tried to circumvent errors by adding exceptions to the list, some examples of errors:\n",
    "* 01/07/20\t10:25:31\t470\t118\t532\t128\t650\t170\t536\n",
    "  01/07/20\t10:25:32\t470\t115\t532\t147\t65:34\t470\t115\t532\t136\t650\t201\t536 <-- error\n",
    "\n",
    "* 01/07/20\t10:25:59\t470\t120\t532\t200\t650\t165\t534 \n",
    "  01/07/20\t1:00\t470\t132\t532\t196\t650\t450\t534 <-- error\n",
    "  \n",
    "* 01/07/20\t10:26:52\t470\t113\t532\t127\t650\t159\t532\n",
    "  01/07/20\t107/20\t10:26:56\t470\t124\t532\t127\t650\t155\t532 <-- error\n",
    "  \n",
    "* 01/07/20\t10:27:19\t470\t107\t532\t145\t650\t236\t532\n",
    "  01/07/20\t10:27:20\t470\t110\t532\t <-- error\n",
    " \n",
    "* 01/07/20\t11:34:51\t470\t54\t532\t80\t650\t364\t536\n",
    "  01/07/20\t1132\t82\t650\t362\t536 <-- error\n",
    "  \n",
    "* 01/07/20\t11:36:12\t470\t92\t532\t102\t650\t118\t533\n",
    "  0\t650\t149\t534 <-- error\n",
    "  \n",
    "Some problems I don't know how to solve is if the time stamp jumps by more than 5 min thus creating a new station file, when the line after goes back to the previous file:\n",
    "01/07/20\t11:36:36\t470\t91\t532\t92\t650\t113\t533\n",
    "01/07/20\t11:46:37\t470\t91\t532\t98\t650\t110\t533 <-- this will create a new file, even though its just an error \n",
    "01/07/20\t11:36:38\t470\t92\t532\t94\t650\t108\t532"
   ]
  },
  {
   "cell_type": "code",
   "execution_count": null,
   "metadata": {},
   "outputs": [],
   "source": [
    "from datetime import timedelta\n",
    "from datetime import datetime\n",
    "import os\n",
    "from parse import parse"
   ]
  },
  {
   "cell_type": "markdown",
   "metadata": {},
   "source": [
    "**Definition** to check if a file path for a cruise exist already, if not will make one"
   ]
  },
  {
   "cell_type": "code",
   "execution_count": null,
   "metadata": {},
   "outputs": [],
   "source": [
    "def ensure_dir(file_path):\n",
    "    directory = os.path.dirname(file_path)\n",
    "    if not os.path.exists(directory):\n",
    "        os.makedirs(directory)"
   ]
  },
  {
   "cell_type": "markdown",
   "metadata": {},
   "source": [
    "You may customize the folder of input, usually should be a cruise ID (i.e. WS18256 for Walton Smith 2018 Julian Day)"
   ]
  },
  {
   "cell_type": "code",
   "execution_count": null,
   "metadata": {},
   "outputs": [],
   "source": [
    "folder_cust = input(\"do you want a custom folder name (yes|y|YES)? (default is BB3/)\")\n",
    "if folder_cust == \"yes\" or folder_cust == \"y\" or folder_cust == \"YES\":\n",
    "    folder_name = input(\"what do you want directory to be?\") + '/'\n",
    "else:\n",
    "    folder_name = 'BB3/'        # comment out if want to costumize folder\n",
    "ensure_dir(folder_name)"
   ]
  },
  {
   "cell_type": "markdown",
   "metadata": {},
   "source": [
    "This sets the format of the datatime that is read in from the file as well as other parameters for later"
   ]
  },
  {
   "cell_type": "code",
   "execution_count": null,
   "metadata": {},
   "outputs": [],
   "source": [
    "# sets datetime as month/day/year hour:minute:second (i.e 7/25/2018 13:35:23)\n",
    "dt_fmt = \"%m/%d/%y  %H:%M:%S\"\n",
    "\n",
    "# is a place holder to use the previous date to check against\n",
    "dt_prev = \"\"\n",
    "\n",
    "# place holder for the file name to be created if has not a read a new station\n",
    "file_name = ''\n",
    "\n",
    "# format to read each line to check for datetime due to errors in lines when downloading\n",
    "# if does not match this will ignore that line\n",
    "line_fmt = (\n",
    "    '{:2d}/{:2d}/{:2d}\t{:2d}:{:2d}:{:2d}\t'\n",
    "    '{:3d}\t{:4d}\t{:3d}\t{:4d}\t{:3d}\t{:4d}\t{:3d}'\n",
    ")"
   ]
  },
  {
   "cell_type": "markdown",
   "metadata": {},
   "source": [
    "This allows you to choose a file to run. \n",
    "**This could be improved by having it search all files in a directory within the else statement** Currently, you need can put in file *a prior*"
   ]
  },
  {
   "cell_type": "code",
   "execution_count": null,
   "metadata": {},
   "outputs": [],
   "source": [
    "choose_file = input(\"do you want a specific file ran (yes|y|YES)?\")\n",
    "if choose_file == \"yes\" or choose_file == \"y\" or choose_file == \"YES\":\n",
    "    sample_file_name = input('Whats the file name?')\n",
    "else:\n",
    "    sample_file_name = 'WS20006_full_download.raw'\n",
    "\n",
    "# open sample file\n",
    "f = open(sample_file_name,\"r\")"
   ]
  },
  {
   "cell_type": "markdown",
   "metadata": {},
   "source": [
    "Read a file"
   ]
  },
  {
   "cell_type": "code",
   "execution_count": null,
   "metadata": {},
   "outputs": [],
   "source": [
    "# use readline() to read the first line\n",
    "line_of_text = f.readline()\n",
    "\n",
    "while line_of_text:\n",
    "        parsed_line = parse(line_fmt, line_of_text)\n",
    "        # print(parsed_line)\n",
    "        # this checks if the date is in correct format, assumes data will be correct if date is\n",
    "        try:\n",
    "            time_of_sample = \"{}/{}/{} {}:{}:{}\".format(\n",
    "                parsed_line[0], parsed_line[1], parsed_line[2],\n",
    "                parsed_line[3], parsed_line[4], parsed_line[5]\n",
    "            )\n",
    "            dt = datetime.strptime(time_of_sample, dt_fmt)\n",
    "        except Exception:  # the errors involves looping the error 46 times, then continuing\n",
    "            #print(time_of_sample)\n",
    "            # puts error lines into a file\n",
    "            error_file = open('files_with_errors.txt', \"a\")\n",
    "            error_file.write(line_of_text)\n",
    "            line_of_text = f.readline()\n",
    "            continue\n",
    "\n",
    "        # if open dt_prev, will take current dt and subtract 1 sec to use a comparison\n",
    "        if dt_prev == \"\":\n",
    "            dt_prev = dt - timedelta(seconds=1)\n",
    "        dt_current = dt\n",
    "\n",
    "        # checks to make sure time is not negative, would mean error \n",
    "        #(i.e. if subtract 2 times and the results is negative time, 1:00:00 - 2:00:00 = -1:00:00)\n",
    "        \n",
    "        # TODO: make a way to check the next two to see if the time difference goes back down\n",
    "        #  an error where the time will jump up more than 10 minutes but then jump back down,\n",
    "        #  so starts to create another file, but then the time is negative (IGNORE if doesn't make sense)\n",
    "        if dt_current - dt_prev < timedelta(milliseconds=0):\n",
    "            print(dt_current, dt_prev) # shows the time of error and will help with diagnosing later\n",
    "            error_file = open('files_with_errors.txt', \"a\")\n",
    "            error_file.write(line_of_text)\n",
    "\n",
    "            line_of_text = f.readline()\n",
    "        \n",
    "        # will look at one line by line to see if they are 5 mins apart. I assume that if > 5 mins will be a new site\n",
    "        elif dt_current - dt_prev < timedelta(minutes=5):\n",
    "            # for the next iteration, sets current to prev\n",
    "            dt_prev = dt_current\n",
    "            \n",
    "            # if file name for a station does not exist will create one where you can input the station name\n",
    "            if file_name == \"\":\n",
    "                i = dt_current.strftime(\"%d_%m_%yT%H%M%S\")\n",
    "                # this is so can look up timestamp on spreadsheet and label site\n",
    "                print('Old time: ' + str(dt_current))\n",
    "                # edit in later, to name site during run\n",
    "                site = input(\"What is the site ID?\")\n",
    "                file_name = 'MBON_{}_site_{}.txt'.format(i, site)\n",
    "                newfile = open(folder_name + file_name, \"a\")\n",
    "                newfile.write(line_of_text)\n",
    "            else:\n",
    "                newfile = open(folder_name + file_name, \"a\")\n",
    "                newfile.write(line_of_text)\n",
    "                \n",
    "        # if >5 mins will allow a new start for a new station\n",
    "        else:\n",
    "            dt_prev = dt_current\n",
    "            i = dt_current.strftime(\"%d_%m_%yT%H%M%S\")\n",
    "            # this is so can look up timestamp on spreadsheet and label site\n",
    "            print('Old time: ' + str(dt_current))\n",
    "            # edit in later, to name site during run\n",
    "            site = input(\"What is the site ID?\")\n",
    "            #site = site + 1         #edit out later\n",
    "            file_name = 'MBON_{}_site_{}.txt'.format(i,site)\n",
    "            newfile = open(folder_name + file_name, \"a\")\n",
    "            newfile.write(line_of_text)\n",
    "        line_of_text = f.readline()\n",
    "f.close()"
   ]
  }
 ],
 "metadata": {
  "kernelspec": {
   "display_name": "Python 3",
   "language": "python",
   "name": "python3"
  },
  "language_info": {
   "codemirror_mode": {
    "name": "ipython",
    "version": 3
   },
   "file_extension": ".py",
   "mimetype": "text/x-python",
   "name": "python",
   "nbconvert_exporter": "python",
   "pygments_lexer": "ipython3",
   "version": "3.7.6"
  }
 },
 "nbformat": 4,
 "nbformat_minor": 5
}
