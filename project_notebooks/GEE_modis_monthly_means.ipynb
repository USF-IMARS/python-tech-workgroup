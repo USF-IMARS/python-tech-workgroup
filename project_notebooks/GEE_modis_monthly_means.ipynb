{
 "cells": [
  {
   "cell_type": "code",
   "execution_count": null,
   "id": "0a821280-21fc-48c7-83d2-d965e09ee6cc",
   "metadata": {},
   "outputs": [],
   "source": []
  },
  {
   "cell_type": "code",
   "execution_count": null,
   "id": "5358ecca-5a84-45ce-8dd6-3778722b7c78",
   "metadata": {},
   "outputs": [],
   "source": [
    "# !earthengine authenticate\n",
    "\n",
    "# NOTE: instead of running this in the notebook use the binder terminal\n",
    "# 1. go to File > new > terminal\n",
    "# 2. enter `earthengine authenticate` & follow prompts"
   ]
  },
  {
   "cell_type": "code",
   "execution_count": 1,
   "id": "c9dd5a29-271d-4e8f-88c8-ccbccc5fea1d",
   "metadata": {},
   "outputs": [
    {
     "name": "stdout",
     "output_type": "stream",
     "text": [
      "/home/jovyan\n"
     ]
    }
   ],
   "source": [
    "cd /home/jovyan"
   ]
  },
  {
   "cell_type": "code",
   "execution_count": null,
   "id": "ad2ed9b2-20b5-49a8-8363-5b398d40243d",
   "metadata": {},
   "outputs": [],
   "source": [
    "# check to ensure the file we need is there\n",
    "!ls -lh '/home/jovyan/.config/earthengine/credentials'"
   ]
  },
  {
   "cell_type": "markdown",
   "id": "4150302b-4b5e-443e-974b-b54395d37bf3",
   "metadata": {},
   "source": [
    "#### Import EE"
   ]
  },
  {
   "cell_type": "code",
   "execution_count": 25,
   "id": "be6d21d6-a0e9-4374-80c7-ca12566b207e",
   "metadata": {},
   "outputs": [],
   "source": [
    "import ee\n",
    "import geemap\n",
    "import pandas as pd\n",
    "ee.Initialize()"
   ]
  },
  {
   "cell_type": "code",
   "execution_count": 2,
   "id": "dcd3e6b0-f990-4b4c-bde1-66a8d79bb000",
   "metadata": {},
   "outputs": [
    {
     "name": "stdout",
     "output_type": "stream",
     "text": [
      "0.1.286\n"
     ]
    }
   ],
   "source": [
    "## Verify the ee module is loaded.\n",
    "print(ee.__version__)"
   ]
  },
  {
   "cell_type": "markdown",
   "id": "ff207eea-fb4b-4b47-810c-10f4ada307ca",
   "metadata": {},
   "source": [
    "#### Import asset collections"
   ]
  },
  {
   "cell_type": "markdown",
   "id": "f0556df9-8418-4fba-870d-77b0a463852d",
   "metadata": {},
   "source": [
    "Ocean Color and SST4 daily product (2002-Present) from MODIS at 1 km per pixel (FLORIDA).\n",
    "\n",
    "OC Bands:\\\n",
    "b1 = Rrs 412, b2 = Rrs 443, b3 = Rrs 488, b4 = Rrs 531, b5 = Rrs 547, b6 = Rrs 667, b7 = Rrs 678, b8 = chlor a (mg/m3), b9 = nflh\n",
    "\n",
    "SST4 Bands:\\\n",
    "b1 = SST (°C)"
   ]
  },
  {
   "cell_type": "code",
   "execution_count": 3,
   "id": "e8435f70-bcad-4144-a1f4-ea67ce075264",
   "metadata": {},
   "outputs": [],
   "source": [
    "## Florida MODIS L3 data (uploaded from imars server)\n",
    "oc = ee.ImageCollection('projects/imars-3d-wetlands/MODIS_L3/FL_OC') ## Ocean Color\n",
    "sst = ee.ImageCollection('projects/imars-3d-wetlands/MODIS_L3/FL_SST4') ## SST"
   ]
  },
  {
   "cell_type": "markdown",
   "id": "e55d9627-f41d-4a4c-ad65-942cd6e89e71",
   "metadata": {},
   "source": [
    "#### Monthly means"
   ]
  },
  {
   "cell_type": "markdown",
   "id": "44d97a64-19b6-4dd1-b085-91d79fd576a1",
   "metadata": {},
   "source": [
    "Define some variables first"
   ]
  },
  {
   "cell_type": "code",
   "execution_count": 18,
   "id": "72d7aed7-a6e8-4d2c-8ce8-fa6efc19bbfc",
   "metadata": {},
   "outputs": [],
   "source": [
    "band = 'b1' #Type same band in Line 149\n",
    "renameBand = 'SST'\n",
    "collection = sst\n",
    "start_date = '2003-01-01'\n",
    "end_date = '2020-12-31'\n",
    "\n",
    "# Establish lists with months and years of selected time range above.\n",
    "months = ee.List.sequence(1, 12);\n",
    "years = ee.List.sequence(2003, 2020);\n",
    "\n",
    "# Establish lists with months and years of selected time range above.\n",
    "months = ee.List.sequence(1, 12);\n",
    "years = ee.List.sequence(2003, 2020);\n",
    "\n",
    "## lat/lon limits\n",
    "region = ee.Geometry.Polygon([[[-86.25, 22.75], [-78.65, 22.75], [-78.65, 31.15], [-86.25, 31.15], [-86.25, 22.75]]])\n",
    "\n",
    "## Visualization parameters\n",
    "palette = ['030d81','0519ff','05e8ff','11ff01','fbff01','ff9901','ff0000','ad0000']\n",
    "viz = {'min':25,'max':31,'palette':palette}"
   ]
  },
  {
   "cell_type": "markdown",
   "id": "31358e1a-670a-457c-9824-30deca1e72c1",
   "metadata": {},
   "source": [
    "Filter collection and get monthly means:"
   ]
  },
  {
   "cell_type": "code",
   "execution_count": 8,
   "id": "65ce6c1c-980f-4486-931f-b47d332a0ef7",
   "metadata": {},
   "outputs": [
    {
     "name": "stdout",
     "output_type": "stream",
     "text": [
      "Monthly Means: 216\n"
     ]
    }
   ],
   "source": [
    "## Filter collection\n",
    "filtered = collection.filterDate(ee.Date(start_date), ee.Date(end_date)).select(band)\n",
    "\n",
    "## Get monthly menas in the defined time range\n",
    "byMonthYear = ee.ImageCollection.fromImages(\n",
    "  years.map(lambda y: \n",
    "            months.map(lambda m:\n",
    "                              filtered\\\n",
    "                              .filter(ee.Filter.calendarRange(y, y, 'year'))\\\n",
    "                              .filter(ee.Filter.calendarRange(m, m, 'month'))\\\n",
    "                              .reduce(ee.Reducer.mean())\\\n",
    "                              .set('month', m).set('year', y))).flatten())\n",
    "\n",
    "print('Monthly Means:',byMonthYear.size().getInfo())"
   ]
  },
  {
   "cell_type": "markdown",
   "id": "023beb25-85dc-4ae0-ab61-5b5d1bd9b621",
   "metadata": {},
   "source": [
    "#### Visualize the first image from the collection as example"
   ]
  },
  {
   "cell_type": "code",
   "execution_count": null,
   "id": "7258e357-ce0c-4561-8b6c-400f0885832a",
   "metadata": {},
   "outputs": [],
   "source": [
    "# initialize our map\n",
    "Map = geemap.Map()\n",
    "Map.centerObject(region, 6)\n",
    "Map.addLayer(byMonthYear.first(), viz, \"Florida\")\n",
    "\n",
    "Map.addLayerControl()\n",
    "Map\n",
    "\n",
    "#Map.addLayer(byMonthYear.first(),vis_chlor,'image')\n",
    "#"
   ]
  },
  {
   "cell_type": "markdown",
   "id": "67f7b3d5-3c1b-481c-878c-600259b42454",
   "metadata": {},
   "source": [
    "#### Get mean values from each image"
   ]
  },
  {
   "cell_type": "code",
   "execution_count": 20,
   "id": "321ea5dd-883f-45a9-9201-6cdb26b19ff6",
   "metadata": {},
   "outputs": [],
   "source": [
    "## Function to get mean values\n",
    "def getStats(img):\n",
    "    ## Select and rename bands.\n",
    "    #image = ee.Image(img).select(band+'_mean').rename(renameBand)\n",
    "    image = ee.Image(img).rename(renameBand)\n",
    "    ## Create and combine reducers of mean and std.\n",
    "    reducers = ee.Reducer.mean().combine(\n",
    "        reducer2= ee.Reducer.stdDev(),\n",
    "        sharedInputs= True)\n",
    "    ## Apply reducers to the image.\n",
    "    stats = image.reduceRegion(\n",
    "        reducer= reducers,\n",
    "        geometry= region,\n",
    "        #bestEffort= True,\n",
    "        scale= 1000,\n",
    "        maxPixels= 1e9)\n",
    "    \n",
    "    ## Create feature variable to allocate data.\n",
    "    feature = ee.Feature(None)\n",
    "    ## Set properties of interest.\n",
    "    properties = ['system:index','month','year',renameBand+'_mean',renameBand+'_stdDev']\n",
    "    ## Apply the stats on every image and collect the output.\n",
    "    imageStats = image.setMulti(stats)\n",
    "    ## return feature with the selected properties.\n",
    "    return ee.Feature(feature).copyProperties(imageStats, properties)"
   ]
  },
  {
   "cell_type": "code",
   "execution_count": 21,
   "id": "b6064f34-e438-4796-b1bb-795d9f4874b2",
   "metadata": {},
   "outputs": [],
   "source": [
    "stats = byMonthYear.map(getStats)"
   ]
  },
  {
   "cell_type": "markdown",
   "id": "8a15f4f5-7c60-4e95-b55e-958ce0d3e916",
   "metadata": {},
   "source": [
    "#### Get data in pandas format"
   ]
  },
  {
   "cell_type": "code",
   "execution_count": 27,
   "id": "3af04293-8b85-4b79-bd11-61d6f1932171",
   "metadata": {},
   "outputs": [
    {
     "name": "stdout",
     "output_type": "stream",
     "text": [
      "     Year  Month       Mean\n",
      "0    2003      1  22.150675\n",
      "1    2003      2  22.137196\n",
      "2    2003      3  24.294582\n",
      "3    2003      4  23.891055\n",
      "4    2003      5  26.836783\n",
      "..    ...    ...        ...\n",
      "211  2020      8  29.699092\n",
      "212  2020      9  29.201843\n",
      "213  2020     10  28.101500\n",
      "214  2020     11  26.275768\n",
      "215  2020     12  23.826473\n",
      "\n",
      "[216 rows x 3 columns]\n"
     ]
    }
   ],
   "source": [
    "mean = pd.DataFrame(stats.aggregate_array('SST_mean').getInfo(), columns=['Mean'])\n",
    "month = pd.DataFrame(stats.aggregate_array('month').getInfo(), columns=['Month'])\n",
    "year = pd.DataFrame(stats.aggregate_array('year').getInfo(), columns=['Year'])\n",
    "\n",
    "df = pd.concat([year, month, mean], axis=1)#.rename(index=rowIndex)\n",
    "print(df)"
   ]
  },
  {
   "cell_type": "markdown",
   "id": "096a7add-5861-488c-9826-c2b21295454a",
   "metadata": {},
   "source": [
    "#### Save file in locati"
   ]
  }
 ],
 "metadata": {
  "kernelspec": {
   "display_name": "Python 3 (ipykernel)",
   "language": "python",
   "name": "python3"
  },
  "language_info": {
   "codemirror_mode": {
    "name": "ipython",
    "version": 3
   },
   "file_extension": ".py",
   "mimetype": "text/x-python",
   "name": "python",
   "nbconvert_exporter": "python",
   "pygments_lexer": "ipython3",
   "version": "3.7.10"
  }
 },
 "nbformat": 4,
 "nbformat_minor": 5
}
