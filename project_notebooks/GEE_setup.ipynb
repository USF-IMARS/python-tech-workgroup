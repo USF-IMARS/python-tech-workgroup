{
 "cells": [
  {
   "cell_type": "markdown",
   "id": "399a6293-e028-47ba-93e0-e637b6c867be",
   "metadata": {},
   "source": [
    "## 1. Installing GEE"
   ]
  },
  {
   "cell_type": "markdown",
   "id": "93f4879b-ee72-44db-a44c-6cab9bfc2877",
   "metadata": {},
   "source": [
    "This is working with conda.\\\n",
    "For installing conda: https://developers.google.com/earth-engine/python_install-conda\n",
    "\n",
    "Our conda install is managed by binder & configured using the `environment.yml`"
   ]
  },
  {
   "cell_type": "markdown",
   "id": "33bcb3fd-b2d8-420a-81bf-ba5da67e5734",
   "metadata": {},
   "source": [
    "#### Authenticate account (need it for the first time of use)"
   ]
  },
  {
   "cell_type": "code",
   "execution_count": null,
   "id": "36a7095b-06c9-43b5-b331-9320fffdaaf7",
   "metadata": {},
   "outputs": [],
   "source": [
    "# !earthengine authenticate\n",
    "\n",
    "# NOTE: instead of running this in the notebook use the binder terminal\n",
    "# 1. go to File > new > terminal\n",
    "# 2. enter `earthengine authenticate` & follow prompts"
   ]
  },
  {
   "cell_type": "code",
   "execution_count": null,
   "id": "eb3cdd10-7b5b-41b1-99b3-4e8f29f7a56f",
   "metadata": {},
   "outputs": [],
   "source": [
    "cd /home/jovyan"
   ]
  },
  {
   "cell_type": "code",
   "execution_count": null,
   "id": "761570db-3bb7-47f8-a8b7-ca4b7dfba067",
   "metadata": {},
   "outputs": [],
   "source": [
    "# check to ensure the file we need is there\n",
    "!ls -lh '/home/jovyan/.config/earthengine/credentials'"
   ]
  },
  {
   "cell_type": "markdown",
   "id": "cd82559b-c649-4637-bcd4-5d523557a7c6",
   "metadata": {},
   "source": [
    "## 2. Working with GEE"
   ]
  },
  {
   "cell_type": "markdown",
   "id": "67115576-c86f-414b-b4e8-576a71efba45",
   "metadata": {},
   "source": [
    "#### Import EE"
   ]
  },
  {
   "cell_type": "code",
   "execution_count": null,
   "id": "15f4e308-5aba-4714-9c6c-8943f47c1792",
   "metadata": {},
   "outputs": [],
   "source": [
    "import ee\n",
    "import geemap\n",
    "ee.Initialize()"
   ]
  },
  {
   "cell_type": "code",
   "execution_count": null,
   "id": "7a4bcc0e-cd8e-4c39-bec1-e7f84daaa391",
   "metadata": {},
   "outputs": [],
   "source": [
    "## Verify the ee module is loaded.\n",
    "print(ee.__version__)"
   ]
  },
  {
   "cell_type": "markdown",
   "id": "833c9095-ebf7-4acc-b97e-eafa96bf8c31",
   "metadata": {},
   "source": [
    "#### Load satellite dataset: https://developers.google.com/earth-engine/datasets/"
   ]
  },
  {
   "cell_type": "code",
   "execution_count": null,
   "id": "88c3a208-b909-45cd-bff6-5bd77765cba7",
   "metadata": {},
   "outputs": [],
   "source": [
    "collection = ee.ImageCollection(\"COPERNICUS/S2_SR\") ##Sentinel-2 L2A"
   ]
  },
  {
   "cell_type": "markdown",
   "id": "7705c69d-d5aa-44ab-8b4f-1309191d7072",
   "metadata": {},
   "source": [
    "#### Filter collection by date, region of interest and cloud coverage:"
   ]
  },
  {
   "cell_type": "code",
   "execution_count": null,
   "id": "87608d89-7086-4b06-b63e-1f7bcc8271fd",
   "metadata": {},
   "outputs": [],
   "source": [
    "## Some settings:\n",
    "start_date = '2020-01-01'\n",
    "end_date = '2020-12-31'\n",
    "cloud_cover = 30\n",
    "states = ee.FeatureCollection(\"TIGER/2018/States\") ## US administrative division\n",
    "aoi = states.filterMetadata('NAME','equals','Florida') ## Select the state of Florida."
   ]
  },
  {
   "cell_type": "code",
   "execution_count": null,
   "id": "aea77d6c-ef63-4d67-8791-ff8a705a6f50",
   "metadata": {},
   "outputs": [],
   "source": [
    "## Filter collection:\n",
    "filtered = collection.filterDate(start_date,end_date) \\\n",
    "            .filterBounds(aoi) \\\n",
    "            .filter(ee.Filter.lt('CLOUDY_PIXEL_PERCENTAGE', cloud_cover))\n",
    "\n",
    "## Check number of images loaded:\n",
    "print(filtered.size().getInfo())"
   ]
  },
  {
   "cell_type": "markdown",
   "id": "1f8de0d3-4967-4018-a0c4-8d7652a4aad6",
   "metadata": {},
   "source": [
    "#### Clip collection and apply cloud mask:"
   ]
  },
  {
   "cell_type": "code",
   "execution_count": null,
   "id": "7f39dc70-703f-4c47-955c-5425ea72d467",
   "metadata": {},
   "outputs": [],
   "source": [
    "## Function to clip an image collection\n",
    "def clipCollection(img):\n",
    "    return img.clip(aoi)\n",
    "\n",
    "## Function to mask clouds using the Sentinel-2 QA band.\n",
    "def maskS2clouds(image):\n",
    "    qa = image.select('QA60')\n",
    "\n",
    "    ## Bits 10 and 11 are clouds and cirrus, respectively.\n",
    "    cloudBitMask = 1 << 10;\n",
    "    cirrusBitMask = 1 << 11;\n",
    "\n",
    "    ## Both flags should be set to zero, indicating clear conditions.\n",
    "    mask = qa.bitwiseAnd(cloudBitMask).eq(0).And(qa.bitwiseAnd(cirrusBitMask).eq(0))\n",
    "\n",
    "    ## Return the masked and scaled data, without the QA bands.\n",
    "    return image.updateMask(mask).divide(10000) \\\n",
    "    .select(\"B.*\") \\\n",
    "    .copyProperties(image, [\"system:time_start\"])"
   ]
  },
  {
   "cell_type": "code",
   "execution_count": null,
   "id": "5f72512d-47fd-459d-a8f3-4a0d9a410bdc",
   "metadata": {},
   "outputs": [],
   "source": [
    "## Run functions and create mosaic:\n",
    "mosaic = filtered.map(maskS2clouds).map(clipCollection).median()"
   ]
  },
  {
   "cell_type": "markdown",
   "id": "5b8fd070-0eeb-498b-8bae-1c737ef06bdd",
   "metadata": {},
   "source": [
    "#### Visualize map"
   ]
  },
  {
   "cell_type": "code",
   "execution_count": null,
   "id": "2451b623-fcb0-4cd9-bbbd-98b9a8e9a5ae",
   "metadata": {},
   "outputs": [],
   "source": [
    "## Visualization parameters:\n",
    "viz = {\n",
    "    'min': 0,\n",
    "    'max': 0.2,\n",
    "    'bands': ['B4','B3','B2'],\n",
    "    'gamma': 1.5}\n",
    "\n",
    "# initialize our map\n",
    "Map = geemap.Map()\n",
    "Map.centerObject(aoi, 6)\n",
    "Map.addLayer(mosaic, viz, \"Florida\")\n",
    "\n",
    "Map.addLayerControl()\n",
    "Map"
   ]
  },
  {
   "cell_type": "code",
   "execution_count": null,
   "id": "0e7988b9-dcdf-4485-ac45-6b09d6bebd3f",
   "metadata": {},
   "outputs": [],
   "source": []
  }
 ],
 "metadata": {
  "kernelspec": {
   "display_name": "Python 3 (ipykernel)",
   "language": "python",
   "name": "python3"
  },
  "language_info": {
   "codemirror_mode": {
    "name": "ipython",
    "version": 3
   },
   "file_extension": ".py",
   "mimetype": "text/x-python",
   "name": "python",
   "nbconvert_exporter": "python",
   "pygments_lexer": "ipython3",
   "version": "3.7.10"
  }
 },
 "nbformat": 4,
 "nbformat_minor": 5
}
